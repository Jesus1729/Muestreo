{
 "cells": [
  {
   "cell_type": "markdown",
   "metadata": {},
   "source": [
    "## Dependencias"
   ]
  },
  {
   "cell_type": "code",
   "execution_count": 72,
   "metadata": {},
   "outputs": [],
   "source": [
    "import random\n",
    "import statistics\n",
    "import pandas as pd  # Versión: 1.5.3\n",
    "import numpy as np  # Versión: 1.22.3\n",
    "from scipy.stats import norm  # Versión: 1.10.1\n",
    "import matplotlib.pyplot as plt  # Versión: 3.7.0"
   ]
  },
  {
   "cell_type": "code",
   "execution_count": 73,
   "metadata": {},
   "outputs": [],
   "source": [
    "# Establecemos una semilla\n",
    "semilla = 42\n",
    "random.seed(semilla)"
   ]
  },
  {
   "cell_type": "markdown",
   "metadata": {},
   "source": [
    "## Lectura de datos"
   ]
  },
  {
   "cell_type": "code",
   "execution_count": 74,
   "metadata": {},
   "outputs": [],
   "source": [
    "df = pd.read_csv('C:\\\\Users\\\\Jesús Camacho\\\\Downloads\\\\HousePrices.csv')"
   ]
  },
  {
   "cell_type": "code",
   "execution_count": 75,
   "metadata": {},
   "outputs": [
    {
     "data": {
      "text/html": [
       "<div>\n",
       "<style scoped>\n",
       "    .dataframe tbody tr th:only-of-type {\n",
       "        vertical-align: middle;\n",
       "    }\n",
       "\n",
       "    .dataframe tbody tr th {\n",
       "        vertical-align: top;\n",
       "    }\n",
       "\n",
       "    .dataframe thead th {\n",
       "        text-align: right;\n",
       "    }\n",
       "</style>\n",
       "<table border=\"1\" class=\"dataframe\">\n",
       "  <thead>\n",
       "    <tr style=\"text-align: right;\">\n",
       "      <th></th>\n",
       "      <th>Id</th>\n",
       "      <th>MSSubClass</th>\n",
       "      <th>MSZoning</th>\n",
       "      <th>LotFrontage</th>\n",
       "      <th>LotArea</th>\n",
       "      <th>Street</th>\n",
       "      <th>Alley</th>\n",
       "      <th>LotShape</th>\n",
       "      <th>LandContour</th>\n",
       "      <th>Utilities</th>\n",
       "      <th>...</th>\n",
       "      <th>PoolArea</th>\n",
       "      <th>PoolQC</th>\n",
       "      <th>Fence</th>\n",
       "      <th>MiscFeature</th>\n",
       "      <th>MiscVal</th>\n",
       "      <th>MoSold</th>\n",
       "      <th>YrSold</th>\n",
       "      <th>SaleType</th>\n",
       "      <th>SaleCondition</th>\n",
       "      <th>SalePrice</th>\n",
       "    </tr>\n",
       "  </thead>\n",
       "  <tbody>\n",
       "    <tr>\n",
       "      <th>0</th>\n",
       "      <td>1</td>\n",
       "      <td>60</td>\n",
       "      <td>RL</td>\n",
       "      <td>65.0</td>\n",
       "      <td>8450</td>\n",
       "      <td>Pave</td>\n",
       "      <td>NaN</td>\n",
       "      <td>Reg</td>\n",
       "      <td>Lvl</td>\n",
       "      <td>AllPub</td>\n",
       "      <td>...</td>\n",
       "      <td>0</td>\n",
       "      <td>NaN</td>\n",
       "      <td>NaN</td>\n",
       "      <td>NaN</td>\n",
       "      <td>0</td>\n",
       "      <td>2</td>\n",
       "      <td>2008</td>\n",
       "      <td>WD</td>\n",
       "      <td>Normal</td>\n",
       "      <td>208500</td>\n",
       "    </tr>\n",
       "    <tr>\n",
       "      <th>1</th>\n",
       "      <td>2</td>\n",
       "      <td>20</td>\n",
       "      <td>RL</td>\n",
       "      <td>80.0</td>\n",
       "      <td>9600</td>\n",
       "      <td>Pave</td>\n",
       "      <td>NaN</td>\n",
       "      <td>Reg</td>\n",
       "      <td>Lvl</td>\n",
       "      <td>AllPub</td>\n",
       "      <td>...</td>\n",
       "      <td>0</td>\n",
       "      <td>NaN</td>\n",
       "      <td>NaN</td>\n",
       "      <td>NaN</td>\n",
       "      <td>0</td>\n",
       "      <td>5</td>\n",
       "      <td>2007</td>\n",
       "      <td>WD</td>\n",
       "      <td>Normal</td>\n",
       "      <td>181500</td>\n",
       "    </tr>\n",
       "    <tr>\n",
       "      <th>2</th>\n",
       "      <td>3</td>\n",
       "      <td>60</td>\n",
       "      <td>RL</td>\n",
       "      <td>68.0</td>\n",
       "      <td>11250</td>\n",
       "      <td>Pave</td>\n",
       "      <td>NaN</td>\n",
       "      <td>IR1</td>\n",
       "      <td>Lvl</td>\n",
       "      <td>AllPub</td>\n",
       "      <td>...</td>\n",
       "      <td>0</td>\n",
       "      <td>NaN</td>\n",
       "      <td>NaN</td>\n",
       "      <td>NaN</td>\n",
       "      <td>0</td>\n",
       "      <td>9</td>\n",
       "      <td>2008</td>\n",
       "      <td>WD</td>\n",
       "      <td>Normal</td>\n",
       "      <td>223500</td>\n",
       "    </tr>\n",
       "    <tr>\n",
       "      <th>3</th>\n",
       "      <td>4</td>\n",
       "      <td>70</td>\n",
       "      <td>RL</td>\n",
       "      <td>60.0</td>\n",
       "      <td>9550</td>\n",
       "      <td>Pave</td>\n",
       "      <td>NaN</td>\n",
       "      <td>IR1</td>\n",
       "      <td>Lvl</td>\n",
       "      <td>AllPub</td>\n",
       "      <td>...</td>\n",
       "      <td>0</td>\n",
       "      <td>NaN</td>\n",
       "      <td>NaN</td>\n",
       "      <td>NaN</td>\n",
       "      <td>0</td>\n",
       "      <td>2</td>\n",
       "      <td>2006</td>\n",
       "      <td>WD</td>\n",
       "      <td>Abnorml</td>\n",
       "      <td>140000</td>\n",
       "    </tr>\n",
       "    <tr>\n",
       "      <th>4</th>\n",
       "      <td>5</td>\n",
       "      <td>60</td>\n",
       "      <td>RL</td>\n",
       "      <td>84.0</td>\n",
       "      <td>14260</td>\n",
       "      <td>Pave</td>\n",
       "      <td>NaN</td>\n",
       "      <td>IR1</td>\n",
       "      <td>Lvl</td>\n",
       "      <td>AllPub</td>\n",
       "      <td>...</td>\n",
       "      <td>0</td>\n",
       "      <td>NaN</td>\n",
       "      <td>NaN</td>\n",
       "      <td>NaN</td>\n",
       "      <td>0</td>\n",
       "      <td>12</td>\n",
       "      <td>2008</td>\n",
       "      <td>WD</td>\n",
       "      <td>Normal</td>\n",
       "      <td>250000</td>\n",
       "    </tr>\n",
       "  </tbody>\n",
       "</table>\n",
       "<p>5 rows × 81 columns</p>\n",
       "</div>"
      ],
      "text/plain": [
       "   Id  MSSubClass MSZoning  LotFrontage  LotArea Street Alley LotShape  \\\n",
       "0   1          60       RL         65.0     8450   Pave   NaN      Reg   \n",
       "1   2          20       RL         80.0     9600   Pave   NaN      Reg   \n",
       "2   3          60       RL         68.0    11250   Pave   NaN      IR1   \n",
       "3   4          70       RL         60.0     9550   Pave   NaN      IR1   \n",
       "4   5          60       RL         84.0    14260   Pave   NaN      IR1   \n",
       "\n",
       "  LandContour Utilities  ... PoolArea PoolQC Fence MiscFeature MiscVal MoSold  \\\n",
       "0         Lvl    AllPub  ...        0    NaN   NaN         NaN       0      2   \n",
       "1         Lvl    AllPub  ...        0    NaN   NaN         NaN       0      5   \n",
       "2         Lvl    AllPub  ...        0    NaN   NaN         NaN       0      9   \n",
       "3         Lvl    AllPub  ...        0    NaN   NaN         NaN       0      2   \n",
       "4         Lvl    AllPub  ...        0    NaN   NaN         NaN       0     12   \n",
       "\n",
       "  YrSold  SaleType  SaleCondition  SalePrice  \n",
       "0   2008        WD         Normal     208500  \n",
       "1   2007        WD         Normal     181500  \n",
       "2   2008        WD         Normal     223500  \n",
       "3   2006        WD        Abnorml     140000  \n",
       "4   2008        WD         Normal     250000  \n",
       "\n",
       "[5 rows x 81 columns]"
      ]
     },
     "execution_count": 75,
     "metadata": {},
     "output_type": "execute_result"
    }
   ],
   "source": [
    "df.head()"
   ]
  },
  {
   "cell_type": "code",
   "execution_count": 76,
   "metadata": {},
   "outputs": [],
   "source": [
    "# Seleccionamos la columna 'SalePrice' del DataFrame 'df' que contiene los precios.\n",
    "precios = df['SalePrice']\n",
    "# Pasamos la columna de precios a una lista utilizando el método 'tolist()'.\n",
    "precios = precios.tolist()"
   ]
  },
  {
   "cell_type": "code",
   "execution_count": 77,
   "metadata": {},
   "outputs": [
    {
     "data": {
      "text/plain": [
       "1460"
      ]
     },
     "execution_count": 77,
     "metadata": {},
     "output_type": "execute_result"
    }
   ],
   "source": [
    "# Conjunto completo de observaciones\n",
    "N = len(precios)\n",
    "N"
   ]
  },
  {
   "cell_type": "code",
   "execution_count": 78,
   "metadata": {},
   "outputs": [
    {
     "data": {
      "text/plain": [
       "180921.19589041095"
      ]
     },
     "execution_count": 78,
     "metadata": {},
     "output_type": "execute_result"
    }
   ],
   "source": [
    "# Obtenemos el parámetro (en este caso es el promedio)\n",
    "promedio_real = statistics.mean(precios)\n",
    "promedio_real"
   ]
  },
  {
   "cell_type": "markdown",
   "metadata": {},
   "source": [
    "## Muestras"
   ]
  },
  {
   "cell_type": "code",
   "execution_count": 79,
   "metadata": {},
   "outputs": [],
   "source": [
    "# Generamos 100 muestras de tamaño 70\n",
    "n_muestras = 100\n",
    "n = tamaño_muestra = 70\n",
    "muestras = [random.sample(precios,tamaño_muestra) for _ in range(n_muestras)]"
   ]
  },
  {
   "cell_type": "code",
   "execution_count": 80,
   "metadata": {},
   "outputs": [
    {
     "name": "stdout",
     "output_type": "stream",
     "text": [
      "100\n",
      "70\n"
     ]
    }
   ],
   "source": [
    "print(len(muestras))\n",
    "print(len(muestras[0]))"
   ]
  },
  {
   "cell_type": "markdown",
   "metadata": {},
   "source": [
    "## Estimación del precio promedio "
   ]
  },
  {
   "cell_type": "code",
   "execution_count": 81,
   "metadata": {},
   "outputs": [],
   "source": [
    "# Obtenemos el promedio para cada muestra y los guardamos en una lista\n",
    "promedios = [statistics.mean(muestras[i]) for i in range(len(muestras))]"
   ]
  },
  {
   "cell_type": "code",
   "execution_count": 82,
   "metadata": {},
   "outputs": [],
   "source": [
    "#len(promedios)"
   ]
  },
  {
   "cell_type": "code",
   "execution_count": 83,
   "metadata": {},
   "outputs": [],
   "source": [
    "#promedios"
   ]
  },
  {
   "cell_type": "code",
   "execution_count": 84,
   "metadata": {},
   "outputs": [],
   "source": [
    "#promedio_uno = promedios[0]\n",
    "#muestra_uno = muestras[0]\n",
    "#print(promedio_uno)\n",
    "#print(muestra_uno)"
   ]
  },
  {
   "cell_type": "code",
   "execution_count": 85,
   "metadata": {},
   "outputs": [],
   "source": [
    "#sum = 0\n",
    "#for i in range(70):\n",
    "#    sum += (1/69)*(muestra_uno[i]-promedio_uno)**2"
   ]
  },
  {
   "cell_type": "code",
   "execution_count": 86,
   "metadata": {},
   "outputs": [],
   "source": [
    "# Obtenemos la varianza de cada muestra\n",
    "# Nota: 'np.var' calcula la varianza dividiendo por 'n' y no por 'n-1', \n",
    "# por lo que se multiplica por 'n/(n-1)' para corregirlo\n",
    "s2_est = []\n",
    "for k in range(len(muestras)):\n",
    "    s2_est.append(np.var(muestras[k])*(len(muestras[0])/(len(muestras[0])-1)))"
   ]
  },
  {
   "cell_type": "code",
   "execution_count": 87,
   "metadata": {},
   "outputs": [],
   "source": [
    "#s2_est"
   ]
  },
  {
   "cell_type": "code",
   "execution_count": 88,
   "metadata": {},
   "outputs": [],
   "source": [
    "#sum"
   ]
  },
  {
   "cell_type": "code",
   "execution_count": 89,
   "metadata": {},
   "outputs": [],
   "source": [
    "#np.sqrt(4)"
   ]
  },
  {
   "cell_type": "code",
   "execution_count": 90,
   "metadata": {},
   "outputs": [],
   "source": [
    "#N = 1460\n",
    "#n = 70"
   ]
  },
  {
   "cell_type": "code",
   "execution_count": 91,
   "metadata": {},
   "outputs": [],
   "source": [
    "# Calculamos los intervalos de confianza para el promedio de cada muestra\n",
    "int_conf = []\n",
    "for i in range(len(muestras)):\n",
    "    lim_inf = promedios[i] + norm.ppf(0.025)*np.sqrt((1)*(1-n/N)*(s2_est[i]/n))\n",
    "    lim_sup = promedios[i] - norm.ppf(0.025)*np.sqrt((1)*(1-n/N)*(s2_est[i]/n))\n",
    "    int_conf.append((lim_inf, lim_sup))"
   ]
  },
  {
   "cell_type": "code",
   "execution_count": 92,
   "metadata": {},
   "outputs": [],
   "source": [
    "#aux"
   ]
  },
  {
   "cell_type": "markdown",
   "metadata": {},
   "source": [
    "## Tabla con los intervalos de confianza"
   ]
  },
  {
   "cell_type": "code",
   "execution_count": 93,
   "metadata": {},
   "outputs": [],
   "source": [
    "tabla = {\"Número de simulación\":list(range(1, 101)),\n",
    "        \"Promedios\":promedios}\n",
    "tabla = pd.DataFrame(tabla)\n",
    "tabla[\"Límite inferior intervalo\"] = [x[0] for x in int_conf]\n",
    "tabla[\"Límite superior intervalo\"] = [x[1] for x in int_conf]\n",
    "tabla[\"¿El intervalo contiene al parámetro de la población?\"] = tabla.apply(lambda row: row[\"Límite inferior intervalo\"] <= promedio_real <= row[\"Límite superior intervalo\"], axis=1)"
   ]
  },
  {
   "cell_type": "code",
   "execution_count": 94,
   "metadata": {},
   "outputs": [
    {
     "data": {
      "text/html": [
       "<div>\n",
       "<style scoped>\n",
       "    .dataframe tbody tr th:only-of-type {\n",
       "        vertical-align: middle;\n",
       "    }\n",
       "\n",
       "    .dataframe tbody tr th {\n",
       "        vertical-align: top;\n",
       "    }\n",
       "\n",
       "    .dataframe thead th {\n",
       "        text-align: right;\n",
       "    }\n",
       "</style>\n",
       "<table border=\"1\" class=\"dataframe\">\n",
       "  <thead>\n",
       "    <tr style=\"text-align: right;\">\n",
       "      <th></th>\n",
       "      <th>Número de simulación</th>\n",
       "      <th>Promedios</th>\n",
       "      <th>Límite inferior intervalo</th>\n",
       "      <th>Límite superior intervalo</th>\n",
       "      <th>¿El intervalo contiene al parámetro de la población?</th>\n",
       "    </tr>\n",
       "  </thead>\n",
       "  <tbody>\n",
       "    <tr>\n",
       "      <th>1</th>\n",
       "      <td>2</td>\n",
       "      <td>200386.971429</td>\n",
       "      <td>182133.468227</td>\n",
       "      <td>218640.474630</td>\n",
       "      <td>False</td>\n",
       "    </tr>\n",
       "    <tr>\n",
       "      <th>14</th>\n",
       "      <td>15</td>\n",
       "      <td>164667.714286</td>\n",
       "      <td>149075.735460</td>\n",
       "      <td>180259.693111</td>\n",
       "      <td>False</td>\n",
       "    </tr>\n",
       "    <tr>\n",
       "      <th>15</th>\n",
       "      <td>16</td>\n",
       "      <td>161963.271429</td>\n",
       "      <td>149645.317794</td>\n",
       "      <td>174281.225063</td>\n",
       "      <td>False</td>\n",
       "    </tr>\n",
       "    <tr>\n",
       "      <th>20</th>\n",
       "      <td>21</td>\n",
       "      <td>165799.142857</td>\n",
       "      <td>151567.050686</td>\n",
       "      <td>180031.235028</td>\n",
       "      <td>False</td>\n",
       "    </tr>\n",
       "    <tr>\n",
       "      <th>28</th>\n",
       "      <td>29</td>\n",
       "      <td>162945.128571</td>\n",
       "      <td>150480.031532</td>\n",
       "      <td>175410.225611</td>\n",
       "      <td>False</td>\n",
       "    </tr>\n",
       "    <tr>\n",
       "      <th>34</th>\n",
       "      <td>35</td>\n",
       "      <td>206026.928571</td>\n",
       "      <td>181940.022185</td>\n",
       "      <td>230113.834957</td>\n",
       "      <td>False</td>\n",
       "    </tr>\n",
       "    <tr>\n",
       "      <th>51</th>\n",
       "      <td>52</td>\n",
       "      <td>166022.071429</td>\n",
       "      <td>151552.135779</td>\n",
       "      <td>180492.007079</td>\n",
       "      <td>False</td>\n",
       "    </tr>\n",
       "    <tr>\n",
       "      <th>58</th>\n",
       "      <td>59</td>\n",
       "      <td>166038.028571</td>\n",
       "      <td>153208.557313</td>\n",
       "      <td>178867.499830</td>\n",
       "      <td>False</td>\n",
       "    </tr>\n",
       "    <tr>\n",
       "      <th>60</th>\n",
       "      <td>61</td>\n",
       "      <td>203201.671429</td>\n",
       "      <td>182732.465060</td>\n",
       "      <td>223670.877797</td>\n",
       "      <td>False</td>\n",
       "    </tr>\n",
       "    <tr>\n",
       "      <th>84</th>\n",
       "      <td>85</td>\n",
       "      <td>156571.485714</td>\n",
       "      <td>142436.369722</td>\n",
       "      <td>170706.601707</td>\n",
       "      <td>False</td>\n",
       "    </tr>\n",
       "    <tr>\n",
       "      <th>94</th>\n",
       "      <td>95</td>\n",
       "      <td>167138.600000</td>\n",
       "      <td>155268.465476</td>\n",
       "      <td>179008.734524</td>\n",
       "      <td>False</td>\n",
       "    </tr>\n",
       "  </tbody>\n",
       "</table>\n",
       "</div>"
      ],
      "text/plain": [
       "    Número de simulación      Promedios  Límite inferior intervalo  \\\n",
       "1                      2  200386.971429              182133.468227   \n",
       "14                    15  164667.714286              149075.735460   \n",
       "15                    16  161963.271429              149645.317794   \n",
       "20                    21  165799.142857              151567.050686   \n",
       "28                    29  162945.128571              150480.031532   \n",
       "34                    35  206026.928571              181940.022185   \n",
       "51                    52  166022.071429              151552.135779   \n",
       "58                    59  166038.028571              153208.557313   \n",
       "60                    61  203201.671429              182732.465060   \n",
       "84                    85  156571.485714              142436.369722   \n",
       "94                    95  167138.600000              155268.465476   \n",
       "\n",
       "    Límite superior intervalo  \\\n",
       "1               218640.474630   \n",
       "14              180259.693111   \n",
       "15              174281.225063   \n",
       "20              180031.235028   \n",
       "28              175410.225611   \n",
       "34              230113.834957   \n",
       "51              180492.007079   \n",
       "58              178867.499830   \n",
       "60              223670.877797   \n",
       "84              170706.601707   \n",
       "94              179008.734524   \n",
       "\n",
       "    ¿El intervalo contiene al parámetro de la población?  \n",
       "1                                               False     \n",
       "14                                              False     \n",
       "15                                              False     \n",
       "20                                              False     \n",
       "28                                              False     \n",
       "34                                              False     \n",
       "51                                              False     \n",
       "58                                              False     \n",
       "60                                              False     \n",
       "84                                              False     \n",
       "94                                              False     "
      ]
     },
     "execution_count": 94,
     "metadata": {},
     "output_type": "execute_result"
    }
   ],
   "source": [
    "# Intervalos que no contienen al parámetro de la población\n",
    "tabla[tabla[\"¿El intervalo contiene al parámetro de la población?\"]==False]"
   ]
  },
  {
   "cell_type": "markdown",
   "metadata": {},
   "source": [
    "## Gráfico \"Intervalos de confianza\""
   ]
  },
  {
   "cell_type": "code",
   "execution_count": 99,
   "metadata": {},
   "outputs": [
    {
     "data": {
      "image/png": "[encoded data removed]",
      "text/plain": [
       "<Figure size 1800x1080 with 1 Axes>"
      ]
     },
     "metadata": {
      "needs_background": "light"
     },
     "output_type": "display_data"
    }
   ],
   "source": [
    "# Creamos una figura y un eje\n",
    "fig, ax = plt.subplots(figsize=(25, 15))\n",
    "\n",
    "# Dibujamos los intervalos de confianza\n",
    "for index, row in tabla.iterrows():\n",
    "    x = index  # Utilizamos el índice de fila como posición en x\n",
    "    y1 = row[\"Límite inferior intervalo\"]\n",
    "    y2 = row[\"Límite superior intervalo\"]\n",
    "    contiene_parametro = row[\"¿El intervalo contiene al parámetro de la población?\"]\n",
    "    \n",
    "    if contiene_parametro:\n",
    "        ax.plot([x, x], [y1, y2], marker='o', color='blue')  # Línea azul si contiene el parámetro\n",
    "    else:\n",
    "        ax.plot([x, x], [y1, y2], marker='o', color='red')  # Línea roja si no contiene el parámetro\n",
    "\n",
    "ax.axhline(y=promedio_real, color='black', linestyle='--', label='Promedio real')  # Graficar la línea del promedio real\n",
    "\n",
    "# Etiquetar el eje x con los índices de fila\n",
    "ax.set_xticks(range(len(tabla)))\n",
    "ax.set_xticklabels(tabla.index)\n",
    "\n",
    "# Configurar las etiquetas y el título\n",
    "#ax.set_xlabel(\"Fila\")\n",
    "#ax.set_ylabel(\"Valores\")\n",
    "ax.set_title(\"Intervalos de confianza\")\n",
    "\n",
    "##plt.savefig(\"grafico.png\")\n",
    "\n",
    "plt.legend(fontsize='xx-large')\n",
    "\n",
    "# Mostramos la gráfica\n",
    "plt.show()\n"
   ]
  }
 ],
 "metadata": {
  "kernelspec": {
   "display_name": "Python 3",
   "language": "python",
   "name": "python3"
  },
  "language_info": {
   "codemirror_mode": {
    "name": "ipython",
    "version": 3
   },
   "file_extension": ".py",
   "mimetype": "text/x-python",
   "name": "python",
   "nbconvert_exporter": "python",
   "pygments_lexer": "ipython3",
   "version": "3.10.2"
  },
  "orig_nbformat": 4
 },
 "nbformat": 4,
 "nbformat_minor": 2
}
